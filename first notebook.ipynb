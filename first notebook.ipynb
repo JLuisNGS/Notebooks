{
    "cells": [
        {
            "cell_type": "markdown",
            "metadata": {},
            "source": "# Shows data"
        },
        {
            "cell_type": "code",
            "execution_count": 1,
            "metadata": {},
            "outputs": [
                {
                    "data": {
                        "text/html": "<div>\n<style scoped>\n    .dataframe tbody tr th:only-of-type {\n        vertical-align: middle;\n    }\n\n    .dataframe tbody tr th {\n        vertical-align: top;\n    }\n\n    .dataframe thead th {\n        text-align: right;\n    }\n</style>\n<table border=\"1\" class=\"dataframe\">\n  <thead>\n    <tr style=\"text-align: right;\">\n      <th></th>\n      <th>Unnamed: 0</th>\n      <th>Informaci\u00f3n general</th>\n      <th>Unnamed: 2</th>\n      <th>Unnamed: 3</th>\n      <th>Niveles de estr\u00e9s (0-5)</th>\n      <th>Unnamed: 5</th>\n      <th>Unnamed: 6</th>\n      <th>Unnamed: 7</th>\n      <th>Unnamed: 8</th>\n      <th>Unnamed: 9</th>\n      <th>...</th>\n      <th>Recursos suficientes</th>\n      <th>Unnamed: 15</th>\n      <th>Unnamed: 16</th>\n      <th>Unnamed: 17</th>\n      <th>Unnamed: 18</th>\n      <th>Disminuci\u00f3n de inter\u00e9s</th>\n      <th>Unnamed: 20</th>\n      <th>Unnamed: 21</th>\n      <th>Unnamed: 22</th>\n      <th>Unnamed: 23</th>\n    </tr>\n  </thead>\n  <tbody>\n    <tr>\n      <th>0</th>\n      <td>Dato</td>\n      <td>Grado</td>\n      <td>Sexo</td>\n      <td>Edad</td>\n      <td>Problemas Tecnicos</td>\n      <td>Asistencia</td>\n      <td>Participaci\u00f3n en clase</td>\n      <td>Distracciones</td>\n      <td>Tareas y entregas de trabajos</td>\n      <td>Promedio de estr\u00e9s</td>\n      <td>...</td>\n      <td>Celular</td>\n      <td>Computadora/tablet</td>\n      <td>Internet</td>\n      <td>Espacio dedicado</td>\n      <td>Suficientes</td>\n      <td>Participaci\u00f3n en clase2</td>\n      <td>Asistencia3</td>\n      <td>Entrega de tareas y trabajos</td>\n      <td>Atenci\u00f3n en clase</td>\n      <td>Promedio desinter\u00e9s</td>\n    </tr>\n    <tr>\n      <th>1</th>\n      <td>4.0</td>\n      <td>L</td>\n      <td>F</td>\n      <td>19.0</td>\n      <td>1.0</td>\n      <td>0.0</td>\n      <td>1.0</td>\n      <td>1.0</td>\n      <td>3.0</td>\n      <td>1.2</td>\n      <td>...</td>\n      <td>1.0</td>\n      <td>1.0</td>\n      <td>1.0</td>\n      <td>1.0</td>\n      <td>4</td>\n      <td>0.0</td>\n      <td>0.0</td>\n      <td>0.0</td>\n      <td>0.0</td>\n      <td>0</td>\n    </tr>\n    <tr>\n      <th>2</th>\n      <td>14.0</td>\n      <td>L</td>\n      <td>M</td>\n      <td>49.0</td>\n      <td>3.0</td>\n      <td>0.0</td>\n      <td>1.0</td>\n      <td>0.0</td>\n      <td>2.0</td>\n      <td>1.2</td>\n      <td>...</td>\n      <td>1.0</td>\n      <td>1.0</td>\n      <td>1.0</td>\n      <td>1.0</td>\n      <td>4</td>\n      <td>0.0</td>\n      <td>0.0</td>\n      <td>0.0</td>\n      <td>0.0</td>\n      <td>0</td>\n    </tr>\n    <tr>\n      <th>3</th>\n      <td>22.0</td>\n      <td>L</td>\n      <td>F</td>\n      <td>21.0</td>\n      <td>0.0</td>\n      <td>0.0</td>\n      <td>2.0</td>\n      <td>0.0</td>\n      <td>5.0</td>\n      <td>1.4</td>\n      <td>...</td>\n      <td>1.0</td>\n      <td>1.0</td>\n      <td>1.0</td>\n      <td>1.0</td>\n      <td>4</td>\n      <td>0.0</td>\n      <td>0.0</td>\n      <td>0.0</td>\n      <td>0.0</td>\n      <td>0</td>\n    </tr>\n    <tr>\n      <th>4</th>\n      <td>23.0</td>\n      <td>D</td>\n      <td>F</td>\n      <td>36.0</td>\n      <td>0.0</td>\n      <td>0.0</td>\n      <td>0.0</td>\n      <td>1.0</td>\n      <td>0.0</td>\n      <td>0.2</td>\n      <td>...</td>\n      <td>1.0</td>\n      <td>1.0</td>\n      <td>1.0</td>\n      <td>1.0</td>\n      <td>4</td>\n      <td>0.0</td>\n      <td>0.0</td>\n      <td>0.0</td>\n      <td>0.0</td>\n      <td>0</td>\n    </tr>\n  </tbody>\n</table>\n<p>5 rows \u00d7 24 columns</p>\n</div>",
                        "text/plain": "  Unnamed: 0 Informaci\u00f3n general Unnamed: 2 Unnamed: 3  \\\n0       Dato              Grado        Sexo       Edad   \n1        4.0                   L          F       19.0   \n2       14.0                   L          M       49.0   \n3       22.0                   L          F       21.0   \n4       23.0                   D          F       36.0   \n\n  Niveles de estr\u00e9s (0-5)  Unnamed: 5              Unnamed: 6     Unnamed: 7  \\\n0      Problemas Tecnicos  Asistencia  Participaci\u00f3n en clase  Distracciones   \n1                     1.0         0.0                     1.0            1.0   \n2                     3.0         0.0                     1.0            0.0   \n3                     0.0         0.0                     2.0            0.0   \n4                     0.0         0.0                     0.0            1.0   \n\n                      Unnamed: 8          Unnamed: 9  ...  \\\n0  Tareas y entregas de trabajos  Promedio de estr\u00e9s  ...   \n1                            3.0                 1.2  ...   \n2                            2.0                 1.2  ...   \n3                            5.0                 1.4  ...   \n4                            0.0                 0.2  ...   \n\n  Recursos suficientes         Unnamed: 15 Unnamed: 16       Unnamed: 17  \\\n0              Celular  Computadora/tablet    Internet  Espacio dedicado   \n1                  1.0                 1.0         1.0               1.0   \n2                  1.0                 1.0         1.0               1.0   \n3                  1.0                 1.0         1.0               1.0   \n4                  1.0                 1.0         1.0               1.0   \n\n   Unnamed: 18   Disminuci\u00f3n de inter\u00e9s  Unnamed: 20  \\\n0  Suficientes  Participaci\u00f3n en clase2  Asistencia3   \n1            4                      0.0          0.0   \n2            4                      0.0          0.0   \n3            4                      0.0          0.0   \n4            4                      0.0          0.0   \n\n                    Unnamed: 21        Unnamed: 22          Unnamed: 23  \n0  Entrega de tareas y trabajos  Atenci\u00f3n en clase  Promedio desinter\u00e9s  \n1                           0.0                0.0                    0  \n2                           0.0                0.0                    0  \n3                           0.0                0.0                    0  \n4                           0.0                0.0                    0  \n\n[5 rows x 24 columns]"
                    },
                    "execution_count": 1,
                    "metadata": {},
                    "output_type": "execute_result"
                }
            ],
            "source": "# The code was removed by Watson Studio for sharing."
        },
        {
            "cell_type": "code",
            "execution_count": null,
            "metadata": {},
            "outputs": [],
            "source": ""
        }
    ],
    "metadata": {
        "kernelspec": {
            "display_name": "Python 3.9",
            "language": "python",
            "name": "python3"
        },
        "language_info": {
            "codemirror_mode": {
                "name": "ipython",
                "version": 3
            },
            "file_extension": ".py",
            "mimetype": "text/x-python",
            "name": "python",
            "nbconvert_exporter": "python",
            "pygments_lexer": "ipython3",
            "version": "3.9.13"
        }
    },
    "nbformat": 4,
    "nbformat_minor": 1
}