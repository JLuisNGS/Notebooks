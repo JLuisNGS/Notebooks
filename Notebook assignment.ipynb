{
 "cells": [
  {
   "cell_type": "markdown",
   "metadata": {},
   "source": [
    "# My Jupyter Notebook on IBM Watson Studio"
   ]
  },
  {
   "cell_type": "markdown",
   "metadata": {},
   "source": [
    "**Jose Luis Narciso Galvez Sandoval**\n",
    "\n",
    "I'm currently a physics and statistics profesor."
   ]
  },
  {
   "cell_type": "markdown",
   "metadata": {},
   "source": [
    "*I'm interested in Data Science because I want to aply my habilities to search and identify problems in the industry of technology.*"
   ]
  },
  {
   "cell_type": "markdown",
   "metadata": {},
   "source": [
    "### This code will print the name of my favorite animal"
   ]
  },
  {
   "cell_type": "code",
   "execution_count": 1,
   "metadata": {},
   "outputs": [
    {
     "name": "stdout",
     "output_type": "stream",
     "text": [
      "Eagle\n"
     ]
    }
   ],
   "source": [
    "print(\"Eagle\")\n"
   ]
  },
  {
   "cell_type": "markdown",
   "metadata": {},
   "source": [
    "***\n",
    "* Eagle\n",
    "* Tiger\n",
    "* Bear\n",
    "    * Polar Bear\n",
    "    * Grizzly Bear\n",
    "    * Panda\n",
    "***\n",
    "> See here:\n",
    "__[bears](https://wallpapercave.com/wp/wp1874736.png)__"
   ]
  }
 ],
 "metadata": {
  "kernelspec": {
   "display_name": "Python 3.10.8 64-bit (microsoft store)",
   "language": "python",
   "name": "python3"
  },
  "language_info": {
   "codemirror_mode": {
    "name": "ipython",
    "version": 3
   },
   "file_extension": ".py",
   "mimetype": "text/x-python",
   "name": "python",
   "nbconvert_exporter": "python",
   "pygments_lexer": "ipython3",
   "version": "3.10.8"
  },
  "orig_nbformat": 4,
  "vscode": {
   "interpreter": {
    "hash": "2131516d7c9484666716faa8175a2d0654e8a00780457dbbb376cca2c6daeaf6"
   }
  }
 },
 "nbformat": 4,
 "nbformat_minor": 2
}
